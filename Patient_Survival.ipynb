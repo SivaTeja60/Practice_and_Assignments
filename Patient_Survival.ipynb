{
  "nbformat": 4,
  "nbformat_minor": 0,
  "metadata": {
    "colab": {
      "name": "Patient_Survival",
      "provenance": [],
      "authorship_tag": "ABX9TyN4x9gVx/o4KsMBrnuNmrUd",
      "include_colab_link": true
    },
    "kernelspec": {
      "name": "python3",
      "display_name": "Python 3"
    }
  },
  "cells": [
    {
      "cell_type": "markdown",
      "metadata": {
        "id": "view-in-github",
        "colab_type": "text"
      },
      "source": [
        "<a href=\"https://colab.research.google.com/github/SivaTeja60/Practice_and_Assignments/blob/master/Patient_Survival.ipynb\" target=\"_parent\"><img src=\"https://colab.research.google.com/assets/colab-badge.svg\" alt=\"Open In Colab\"/></a>"
      ]
    },
    {
      "cell_type": "markdown",
      "metadata": {
        "id": "fEACCCQ8d2IQ",
        "colab_type": "text"
      },
      "source": [
        "Loading Libraries"
      ]
    },
    {
      "cell_type": "code",
      "metadata": {
        "id": "ncnT5Ud3dN7A",
        "colab_type": "code",
        "colab": {}
      },
      "source": [
        "import pandas as pd\n",
        "import numpy as np\n",
        "import matplotlib.pyplot as plt"
      ],
      "execution_count": 510,
      "outputs": []
    },
    {
      "cell_type": "markdown",
      "metadata": {
        "id": "LJbUIj4wexIi",
        "colab_type": "text"
      },
      "source": [
        "Load Dataset"
      ]
    },
    {
      "cell_type": "code",
      "metadata": {
        "id": "M6_m4RqWeyMI",
        "colab_type": "code",
        "colab": {
          "base_uri": "https://localhost:8080/",
          "height": 219
        },
        "outputId": "51df7c35-2c66-4b81-94bd-2c92a9a37f0e"
      },
      "source": [
        "pharma_data = pd.read_csv('https://raw.githubusercontent.com/dphi-official/Datasets/master/pharma_data/Training_set_begs.csv')\n",
        "pharma_data.head()"
      ],
      "execution_count": 511,
      "outputs": [
        {
          "output_type": "execute_result",
          "data": {
            "text/html": [
              "<div>\n",
              "<style scoped>\n",
              "    .dataframe tbody tr th:only-of-type {\n",
              "        vertical-align: middle;\n",
              "    }\n",
              "\n",
              "    .dataframe tbody tr th {\n",
              "        vertical-align: top;\n",
              "    }\n",
              "\n",
              "    .dataframe thead th {\n",
              "        text-align: right;\n",
              "    }\n",
              "</style>\n",
              "<table border=\"1\" class=\"dataframe\">\n",
              "  <thead>\n",
              "    <tr style=\"text-align: right;\">\n",
              "      <th></th>\n",
              "      <th>ID_Patient_Care_Situation</th>\n",
              "      <th>Diagnosed_Condition</th>\n",
              "      <th>Patient_ID</th>\n",
              "      <th>Treated_with_drugs</th>\n",
              "      <th>Patient_Age</th>\n",
              "      <th>Patient_Body_Mass_Index</th>\n",
              "      <th>Patient_Smoker</th>\n",
              "      <th>Patient_Rural_Urban</th>\n",
              "      <th>Patient_mental_condition</th>\n",
              "      <th>A</th>\n",
              "      <th>B</th>\n",
              "      <th>C</th>\n",
              "      <th>D</th>\n",
              "      <th>E</th>\n",
              "      <th>F</th>\n",
              "      <th>Z</th>\n",
              "      <th>Number_of_prev_cond</th>\n",
              "      <th>Survived_1_year</th>\n",
              "    </tr>\n",
              "  </thead>\n",
              "  <tbody>\n",
              "    <tr>\n",
              "      <th>0</th>\n",
              "      <td>22374</td>\n",
              "      <td>8</td>\n",
              "      <td>3333</td>\n",
              "      <td>DX6</td>\n",
              "      <td>56</td>\n",
              "      <td>18.479385</td>\n",
              "      <td>YES</td>\n",
              "      <td>URBAN</td>\n",
              "      <td>Stable</td>\n",
              "      <td>1.0</td>\n",
              "      <td>0.0</td>\n",
              "      <td>0.0</td>\n",
              "      <td>0.0</td>\n",
              "      <td>1.0</td>\n",
              "      <td>0.0</td>\n",
              "      <td>0.0</td>\n",
              "      <td>2.0</td>\n",
              "      <td>0</td>\n",
              "    </tr>\n",
              "    <tr>\n",
              "      <th>1</th>\n",
              "      <td>18164</td>\n",
              "      <td>5</td>\n",
              "      <td>5740</td>\n",
              "      <td>DX2</td>\n",
              "      <td>36</td>\n",
              "      <td>22.945566</td>\n",
              "      <td>YES</td>\n",
              "      <td>RURAL</td>\n",
              "      <td>Stable</td>\n",
              "      <td>1.0</td>\n",
              "      <td>0.0</td>\n",
              "      <td>0.0</td>\n",
              "      <td>0.0</td>\n",
              "      <td>0.0</td>\n",
              "      <td>0.0</td>\n",
              "      <td>0.0</td>\n",
              "      <td>1.0</td>\n",
              "      <td>1</td>\n",
              "    </tr>\n",
              "    <tr>\n",
              "      <th>2</th>\n",
              "      <td>6283</td>\n",
              "      <td>23</td>\n",
              "      <td>10446</td>\n",
              "      <td>DX6</td>\n",
              "      <td>48</td>\n",
              "      <td>27.510027</td>\n",
              "      <td>YES</td>\n",
              "      <td>RURAL</td>\n",
              "      <td>Stable</td>\n",
              "      <td>1.0</td>\n",
              "      <td>0.0</td>\n",
              "      <td>0.0</td>\n",
              "      <td>0.0</td>\n",
              "      <td>0.0</td>\n",
              "      <td>0.0</td>\n",
              "      <td>0.0</td>\n",
              "      <td>1.0</td>\n",
              "      <td>0</td>\n",
              "    </tr>\n",
              "    <tr>\n",
              "      <th>3</th>\n",
              "      <td>5339</td>\n",
              "      <td>51</td>\n",
              "      <td>12011</td>\n",
              "      <td>DX1</td>\n",
              "      <td>5</td>\n",
              "      <td>19.130976</td>\n",
              "      <td>NO</td>\n",
              "      <td>URBAN</td>\n",
              "      <td>Stable</td>\n",
              "      <td>1.0</td>\n",
              "      <td>0.0</td>\n",
              "      <td>0.0</td>\n",
              "      <td>0.0</td>\n",
              "      <td>0.0</td>\n",
              "      <td>0.0</td>\n",
              "      <td>0.0</td>\n",
              "      <td>1.0</td>\n",
              "      <td>1</td>\n",
              "    </tr>\n",
              "    <tr>\n",
              "      <th>4</th>\n",
              "      <td>33012</td>\n",
              "      <td>0</td>\n",
              "      <td>12513</td>\n",
              "      <td>NaN</td>\n",
              "      <td>128</td>\n",
              "      <td>1.348400</td>\n",
              "      <td>Cannot say</td>\n",
              "      <td>RURAL</td>\n",
              "      <td>Stable</td>\n",
              "      <td>0.0</td>\n",
              "      <td>0.0</td>\n",
              "      <td>0.0</td>\n",
              "      <td>0.0</td>\n",
              "      <td>0.0</td>\n",
              "      <td>0.0</td>\n",
              "      <td>1.0</td>\n",
              "      <td>1.0</td>\n",
              "      <td>1</td>\n",
              "    </tr>\n",
              "  </tbody>\n",
              "</table>\n",
              "</div>"
            ],
            "text/plain": [
              "   ID_Patient_Care_Situation  ...  Survived_1_year\n",
              "0                      22374  ...                0\n",
              "1                      18164  ...                1\n",
              "2                       6283  ...                0\n",
              "3                       5339  ...                1\n",
              "4                      33012  ...                1\n",
              "\n",
              "[5 rows x 18 columns]"
            ]
          },
          "metadata": {
            "tags": []
          },
          "execution_count": 511
        }
      ]
    },
    {
      "cell_type": "code",
      "metadata": {
        "id": "wbx2nJf6e8FA",
        "colab_type": "code",
        "colab": {
          "base_uri": "https://localhost:8080/",
          "height": 456
        },
        "outputId": "dd65534a-a35c-4ac9-d6d6-d4753cf118a5"
      },
      "source": [
        "pharma_data.info()"
      ],
      "execution_count": 512,
      "outputs": [
        {
          "output_type": "stream",
          "text": [
            "<class 'pandas.core.frame.DataFrame'>\n",
            "RangeIndex: 23097 entries, 0 to 23096\n",
            "Data columns (total 18 columns):\n",
            " #   Column                     Non-Null Count  Dtype  \n",
            "---  ------                     --------------  -----  \n",
            " 0   ID_Patient_Care_Situation  23097 non-null  int64  \n",
            " 1   Diagnosed_Condition        23097 non-null  int64  \n",
            " 2   Patient_ID                 23097 non-null  int64  \n",
            " 3   Treated_with_drugs         23084 non-null  object \n",
            " 4   Patient_Age                23097 non-null  int64  \n",
            " 5   Patient_Body_Mass_Index    23097 non-null  float64\n",
            " 6   Patient_Smoker             23097 non-null  object \n",
            " 7   Patient_Rural_Urban        23097 non-null  object \n",
            " 8   Patient_mental_condition   23097 non-null  object \n",
            " 9   A                          21862 non-null  float64\n",
            " 10  B                          21862 non-null  float64\n",
            " 11  C                          21862 non-null  float64\n",
            " 12  D                          21862 non-null  float64\n",
            " 13  E                          21862 non-null  float64\n",
            " 14  F                          21862 non-null  float64\n",
            " 15  Z                          21862 non-null  float64\n",
            " 16  Number_of_prev_cond        21862 non-null  float64\n",
            " 17  Survived_1_year            23097 non-null  int64  \n",
            "dtypes: float64(9), int64(5), object(4)\n",
            "memory usage: 3.2+ MB\n"
          ],
          "name": "stdout"
        }
      ]
    },
    {
      "cell_type": "markdown",
      "metadata": {
        "id": "hGHa-QdR7zqB",
        "colab_type": "text"
      },
      "source": [
        "Drop Values"
      ]
    },
    {
      "cell_type": "code",
      "metadata": {
        "id": "ThtqdCuLh9PV",
        "colab_type": "code",
        "colab": {
          "base_uri": "https://localhost:8080/",
          "height": 456
        },
        "outputId": "8cbf6310-797b-4721-cc69-efc5e3e39de0"
      },
      "source": [
        "pharma_data_mod = pharma_data.drop(['ID_Patient_Care_Situation','Patient_ID'], axis=1)\n",
        "pharma_data_mod = pharma_data.drop(['ID_Patient_Care_Situation','Patient_ID'], axis=1)\n",
        "pharma_data_mod = pharma_data\n",
        "pharma_data_mod.info()"
      ],
      "execution_count": 513,
      "outputs": [
        {
          "output_type": "stream",
          "text": [
            "<class 'pandas.core.frame.DataFrame'>\n",
            "RangeIndex: 23097 entries, 0 to 23096\n",
            "Data columns (total 18 columns):\n",
            " #   Column                     Non-Null Count  Dtype  \n",
            "---  ------                     --------------  -----  \n",
            " 0   ID_Patient_Care_Situation  23097 non-null  int64  \n",
            " 1   Diagnosed_Condition        23097 non-null  int64  \n",
            " 2   Patient_ID                 23097 non-null  int64  \n",
            " 3   Treated_with_drugs         23084 non-null  object \n",
            " 4   Patient_Age                23097 non-null  int64  \n",
            " 5   Patient_Body_Mass_Index    23097 non-null  float64\n",
            " 6   Patient_Smoker             23097 non-null  object \n",
            " 7   Patient_Rural_Urban        23097 non-null  object \n",
            " 8   Patient_mental_condition   23097 non-null  object \n",
            " 9   A                          21862 non-null  float64\n",
            " 10  B                          21862 non-null  float64\n",
            " 11  C                          21862 non-null  float64\n",
            " 12  D                          21862 non-null  float64\n",
            " 13  E                          21862 non-null  float64\n",
            " 14  F                          21862 non-null  float64\n",
            " 15  Z                          21862 non-null  float64\n",
            " 16  Number_of_prev_cond        21862 non-null  float64\n",
            " 17  Survived_1_year            23097 non-null  int64  \n",
            "dtypes: float64(9), int64(5), object(4)\n",
            "memory usage: 3.2+ MB\n"
          ],
          "name": "stdout"
        }
      ]
    },
    {
      "cell_type": "code",
      "metadata": {
        "id": "awpyTqkJszPo",
        "colab_type": "code",
        "colab": {
          "base_uri": "https://localhost:8080/",
          "height": 351
        },
        "outputId": "f2a3c8d5-7017-4cc2-e9d5-30d3ae31c0f4"
      },
      "source": [
        "pharma_data_mod.isna().any()"
      ],
      "execution_count": 514,
      "outputs": [
        {
          "output_type": "execute_result",
          "data": {
            "text/plain": [
              "ID_Patient_Care_Situation    False\n",
              "Diagnosed_Condition          False\n",
              "Patient_ID                   False\n",
              "Treated_with_drugs            True\n",
              "Patient_Age                  False\n",
              "Patient_Body_Mass_Index      False\n",
              "Patient_Smoker               False\n",
              "Patient_Rural_Urban          False\n",
              "Patient_mental_condition     False\n",
              "A                             True\n",
              "B                             True\n",
              "C                             True\n",
              "D                             True\n",
              "E                             True\n",
              "F                             True\n",
              "Z                             True\n",
              "Number_of_prev_cond           True\n",
              "Survived_1_year              False\n",
              "dtype: bool"
            ]
          },
          "metadata": {
            "tags": []
          },
          "execution_count": 514
        }
      ]
    },
    {
      "cell_type": "markdown",
      "metadata": {
        "id": "T24q6VVBi3m6",
        "colab_type": "text"
      },
      "source": [
        "Fill Null values"
      ]
    },
    {
      "cell_type": "code",
      "metadata": {
        "id": "_1is1OHFitQ0",
        "colab_type": "code",
        "colab": {
          "base_uri": "https://localhost:8080/",
          "height": 509
        },
        "outputId": "6366bc99-91da-4bb3-90bd-45dc0dac1569"
      },
      "source": [
        "pharma_data['Survived_1_year'].value_counts()\n",
        "print(pharma_data['ID_Patient_Care_Situation'].unique())\n",
        "df=pharma_data['ID_Patient_Care_Situation'].unique()\n",
        "print(df.shape)\n",
        "print(pharma_data['Diagnosed_Condition'].unique())\n",
        "print(pharma_data['Treated_with_drugs'].unique())\n",
        "print(pharma_data['Patient_Age'].unique())\n",
        "print(pharma_data['Patient_Smoker'].unique())\n",
        "print(pharma_data['Patient_Rural_Urban'].unique())\n",
        "print(pharma_data['Patient_mental_condition'].unique())\n",
        "print(pharma_data_mod['A'].unique())\n",
        "print(pharma_data['B'].unique())\n",
        "print(pharma_data['C'].unique())\n",
        "print(pharma_data['D'].unique())\n",
        "print(pharma_data['E'].unique())\n",
        "print(pharma_data['F'].unique())\n",
        "print(pharma_data['Z'].unique())\n",
        "print(pharma_data['Number_of_prev_cond'].unique())"
      ],
      "execution_count": 515,
      "outputs": [
        {
          "output_type": "stream",
          "text": [
            "[22374 18164  6283 ...  2167 31646  3947]\n",
            "(23097,)\n",
            "[ 8  5 23 51  0 45 52  9 47 17 15 35 44 37 14 42 12 21 29 43 18 31 20  1\n",
            " 40 48 28 16 24 49 13  2 38  3  6 39 46  4 27 19 26 34 33 41 22 50 36 11\n",
            " 10  7 32 30 25]\n",
            "['DX6' 'DX2 ' 'DX1 ' nan 'DX3 ' 'DX5 ' 'DX4 ' 'DX2 DX5 ' 'DX2 DX3 '\n",
            " 'DX1 DX3 ' 'DX1 DX2 ' 'DX3 DX4 ' 'DX1 DX4 ' 'DX1 DX5 ' 'DX2 DX4 DX5 '\n",
            " 'DX1 DX2 DX3 ' 'DX3 DX5 ' 'DX2 DX4 ' 'DX3 DX4 DX5 ' 'DX2 DX3 DX5 '\n",
            " 'DX1 DX2 DX3 DX4 ' 'DX4 DX5 ' 'DX2 DX3 DX4 ' 'DX1 DX4 DX5 '\n",
            " 'DX1 DX2 DX4 ' 'DX1 DX3 DX5 ' 'DX1 DX2 DX5 ' 'DX1 DX3 DX4 '\n",
            " 'DX1 DX3 DX4 DX5 ' 'DX1 DX2 DX4 DX5 ' 'DX2 DX3 DX4 DX5 '\n",
            " 'DX1 DX2 DX3 DX5 ' 'DX1 DX2 DX3 DX4 DX5 ']\n",
            "[ 56  36  48   5 128  47  53   3  62  46  60  26  41  23  22  58  28  15\n",
            "   2  42  29  31  14  44  16  19  11  40   4  54  12  37  43  64   7  52\n",
            "  24   6  32  65  59  55  50  13  66  17  39  49  33  51  35   9  30  18\n",
            "  57  10  27  61  20   1  38  25  45  63 112  34  21   0   8 149 123 114\n",
            " 132 142 138 125 115 121]\n",
            "['YES' 'NO' 'Cannot say']\n",
            "['URBAN' 'RURAL']\n",
            "['Stable']\n",
            "[ 1.  0. nan]\n",
            "[ 0.  1. nan]\n",
            "[ 0.  1. nan]\n",
            "[ 0.  1. nan]\n",
            "[ 1.  0. nan]\n",
            "[ 0.  1. nan]\n",
            "[ 0.  1. nan]\n",
            "[ 2.  1.  3.  4. nan  5.]\n"
          ],
          "name": "stdout"
        }
      ]
    },
    {
      "cell_type": "code",
      "metadata": {
        "id": "uHAgYhcKpT7b",
        "colab_type": "code",
        "colab": {
          "base_uri": "https://localhost:8080/",
          "height": 52
        },
        "outputId": "ac143b0f-508d-4e88-c0c4-c74d7cd4478a"
      },
      "source": [
        "pharma_data_mod['Treated_with_drugs']=pharma_data_mod['Treated_with_drugs'].astype('category')\n",
        "pharma_data_mod['Treated_with_drugs'] = pharma_data_mod['Treated_with_drugs'].fillna(pharma_data_mod['Treated_with_drugs'].mode().iloc[0])\n",
        "pharma_data_mod['A'] = pharma_data_mod['A'].fillna(pharma_data_mod['A'].mode().iloc[0])\n",
        "pharma_data_mod['B'] = pharma_data_mod['B'].fillna(pharma_data_mod['B'].mode().iloc[0])\n",
        "pharma_data_mod['C'] = pharma_data_mod['C'].fillna(pharma_data_mod['C'].mode().iloc[0])\n",
        "pharma_data_mod['D'] = pharma_data_mod['D'].fillna(pharma_data_mod['D'].mode().iloc[0])\n",
        "pharma_data_mod['E'] = pharma_data_mod['E'].fillna(pharma_data_mod['E'].mode().iloc[0])\n",
        "pharma_data_mod['F'] = pharma_data_mod['F'].fillna(pharma_data_mod['F'].mode().iloc[0])\n",
        "pharma_data_mod['Z'] = pharma_data_mod['Z'].fillna(pharma_data_mod['Z'].mode().iloc[0])\n",
        "pharma_data_mod['Number_of_prev_cond'] = pharma_data_mod['Number_of_prev_cond'].fillna(pharma_data_mod['Number_of_prev_cond'].mode().iloc[0])\n",
        "print(len(pharma_data_mod[(pharma_data_mod['A'] == 1)]))\n",
        "print(len(pharma_data_mod[(pharma_data_mod['A'] == 0)]))\n",
        "#len(pharma_data_mod[(pharma_data_mod['Patient_Smoker'] == \"NO\")])"
      ],
      "execution_count": 517,
      "outputs": [
        {
          "output_type": "stream",
          "text": [
            "20865\n",
            "2232\n"
          ],
          "name": "stdout"
        }
      ]
    },
    {
      "cell_type": "code",
      "metadata": {
        "id": "fDqO-Dzop2ij",
        "colab_type": "code",
        "colab": {
          "base_uri": "https://localhost:8080/",
          "height": 456
        },
        "outputId": "8f5c6c6d-42c0-4eb8-aaff-507c6569f208"
      },
      "source": [
        "from sklearn.preprocessing import LabelEncoder\n",
        "le = LabelEncoder()\n",
        "#pharma_data_mod.Treated_with_drugs = le.fit_transform(pharma_data_mod.Treated_with_drugs)\n",
        "pharma_data_mod = pharma_data_mod.apply(lambda col: le.fit_transform(col.astype(str)), axis=0, result_type='expand')\n",
        "pharma_data_mod.Patient_Smoker = le.fit_transform(pharma_data_mod.Patient_Smoker)\n",
        "pharma_data_mod.Patient_Rural_Urban = le.fit_transform(pharma_data_mod.Patient_Rural_Urban)\n",
        "pharma_data_mod.Patient_mental_condition = le.fit_transform(pharma_data_mod.Patient_mental_condition)\n",
        "pharma_data_mod.head()\n",
        "pharma_data_mod.info()"
      ],
      "execution_count": 518,
      "outputs": [
        {
          "output_type": "stream",
          "text": [
            "<class 'pandas.core.frame.DataFrame'>\n",
            "RangeIndex: 23097 entries, 0 to 23096\n",
            "Data columns (total 18 columns):\n",
            " #   Column                     Non-Null Count  Dtype\n",
            "---  ------                     --------------  -----\n",
            " 0   ID_Patient_Care_Situation  23097 non-null  int64\n",
            " 1   Diagnosed_Condition        23097 non-null  int64\n",
            " 2   Patient_ID                 23097 non-null  int64\n",
            " 3   Treated_with_drugs         23097 non-null  int64\n",
            " 4   Patient_Age                23097 non-null  int64\n",
            " 5   Patient_Body_Mass_Index    23097 non-null  int64\n",
            " 6   Patient_Smoker             23097 non-null  int64\n",
            " 7   Patient_Rural_Urban        23097 non-null  int64\n",
            " 8   Patient_mental_condition   23097 non-null  int64\n",
            " 9   A                          23097 non-null  int64\n",
            " 10  B                          23097 non-null  int64\n",
            " 11  C                          23097 non-null  int64\n",
            " 12  D                          23097 non-null  int64\n",
            " 13  E                          23097 non-null  int64\n",
            " 14  F                          23097 non-null  int64\n",
            " 15  Z                          23097 non-null  int64\n",
            " 16  Number_of_prev_cond        23097 non-null  int64\n",
            " 17  Survived_1_year            23097 non-null  int64\n",
            "dtypes: int64(18)\n",
            "memory usage: 3.2 MB\n"
          ],
          "name": "stdout"
        }
      ]
    },
    {
      "cell_type": "code",
      "metadata": {
        "id": "IQNwmNYwfbjL",
        "colab_type": "code",
        "colab": {
          "base_uri": "https://localhost:8080/",
          "height": 1000
        },
        "outputId": "fff9dcb4-9b15-4ef6-a3c0-9c728017e8f3"
      },
      "source": [
        "def draw_histograms(dataframe, features, rows, cols):\n",
        "    fig=plt.figure(figsize=(20,20))\n",
        "    for i, feature in enumerate(features):\n",
        "        ax=fig.add_subplot(rows,cols,i+1)\n",
        "        dataframe[feature].hist(bins=20,ax=ax,facecolor='midnightblue')\n",
        "        ax.set_title(feature+\" Distribution\",color='DarkRed')\n",
        "        \n",
        "    fig.tight_layout()  \n",
        "    plt.show()\n",
        "draw_histograms(pharma_data_mod,pharma_data_mod.columns,6,3)"
      ],
      "execution_count": 519,
      "outputs": [
        {
          "output_type": "display_data",
          "data": {
            "image/png": "[encoded data removed]",
            "text/plain": [
              "<Figure size 1440x1440 with 18 Axes>"
            ]
          },
          "metadata": {
            "tags": [],
            "needs_background": "light"
          }
        }
      ]
    },
    {
      "cell_type": "markdown",
      "metadata": {
        "id": "ntofDXjrG38e",
        "colab_type": "text"
      },
      "source": [
        "Train Model-MLP(Less F1)"
      ]
    },
    {
      "cell_type": "code",
      "metadata": {
        "id": "sMHKhyZXG5Jn",
        "colab_type": "code",
        "colab": {}
      },
      "source": [
        "X = pharma_data_mod.drop('Survived_1_year', axis = 1) \n",
        "y = pharma_data_mod['Survived_1_year']"
      ],
      "execution_count": 520,
      "outputs": []
    },
    {
      "cell_type": "code",
      "metadata": {
        "id": "6RDLGb0FHEe0",
        "colab_type": "code",
        "colab": {}
      },
      "source": [
        "from sklearn.model_selection import train_test_split\n",
        "X_train, X_test, y_train, y_test = train_test_split(X, y, test_size = 0.3, random_state = 42)"
      ],
      "execution_count": 521,
      "outputs": []
    },
    {
      "cell_type": "code",
      "metadata": {
        "id": "L-OlveqlHhT_",
        "colab_type": "code",
        "colab": {}
      },
      "source": [
        "from sklearn.neural_network import MLPClassifier\n",
        "mlp = MLPClassifier(max_iter=1000)\n",
        "mlp.fit(X_train, y_train)\n",
        "y_pred = mlp.predict(X_test)"
      ],
      "execution_count": 522,
      "outputs": []
    },
    {
      "cell_type": "code",
      "metadata": {
        "id": "qix3drCCHx9R",
        "colab_type": "code",
        "colab": {
          "base_uri": "https://localhost:8080/",
          "height": 34
        },
        "outputId": "9a399427-3400-42b2-aa28-2ad3cd8d15d1"
      },
      "source": [
        "from sklearn.metrics import f1_score\n",
        "print(\"F1 Score: \",f1_score(y_test, y_pred)) #low f1 score"
      ],
      "execution_count": 523,
      "outputs": [
        {
          "output_type": "stream",
          "text": [
            "F1 Score:  0.7684102180218957\n"
          ],
          "name": "stdout"
        }
      ]
    },
    {
      "cell_type": "markdown",
      "metadata": {
        "id": "Qi5m8lzmITt5",
        "colab_type": "text"
      },
      "source": [
        "Random Forest"
      ]
    },
    {
      "cell_type": "code",
      "metadata": {
        "id": "GRDOxsJgIZsR",
        "colab_type": "code",
        "colab": {}
      },
      "source": [
        "from sklearn.model_selection import train_test_split\n",
        "X_train, X_test, y_train, y_test = train_test_split(X,y,test_size=0.2, random_state = 42)"
      ],
      "execution_count": 524,
      "outputs": []
    },
    {
      "cell_type": "code",
      "metadata": {
        "id": "RnQc-_FUIqOr",
        "colab_type": "code",
        "colab": {}
      },
      "source": [
        "from sklearn.ensemble import RandomForestClassifier\n",
        "model=RandomForestClassifier(bootstrap= True,\n",
        " max_depth= 110,\n",
        " max_features= 3,\n",
        " min_samples_leaf= 3,\n",
        " min_samples_split= 8,\n",
        " n_estimators= 1000)\n",
        "model=model.fit(X_train,y_train)"
      ],
      "execution_count": 531,
      "outputs": []
    },
    {
      "cell_type": "code",
      "metadata": {
        "id": "tajYaPSqT47Y",
        "colab_type": "code",
        "colab": {
          "base_uri": "https://localhost:8080/",
          "height": 34
        },
        "outputId": "494ceb8c-659f-4a83-f0a3-06c83254b649"
      },
      "source": [
        "#grid_search.best_params_"
      ],
      "execution_count": 423,
      "outputs": [
        {
          "output_type": "execute_result",
          "data": {
            "text/plain": [
              "{'n_estimators': 1000}"
            ]
          },
          "metadata": {
            "tags": []
          },
          "execution_count": 423
        }
      ]
    },
    {
      "cell_type": "code",
      "metadata": {
        "id": "wf7Ck5loI964",
        "colab_type": "code",
        "colab": {}
      },
      "source": [
        "#predictions = grid_result.predict(X_test)\n",
        "#from sklearn.model_selection import RepeatedStratifiedKFold\n",
        "#grid_result = grid_search.fit(X_test, y_test)\n",
        "predictions=model.predict(X_test)\n"
      ],
      "execution_count": 535,
      "outputs": []
    },
    {
      "cell_type": "code",
      "metadata": {
        "id": "KIz2a1cOJB5o",
        "colab_type": "code",
        "colab": {
          "base_uri": "https://localhost:8080/",
          "height": 34
        },
        "outputId": "e61f8d47-5f34-425c-ec73-227e58895412"
      },
      "source": [
        "from sklearn.metrics import f1_score\n",
        "print(\"F1 Score: \",f1_score(y_test,predictions))"
      ],
      "execution_count": 536,
      "outputs": [
        {
          "output_type": "stream",
          "text": [
            "F1 Score:  0.8527494567942503\n"
          ],
          "name": "stdout"
        }
      ]
    },
    {
      "cell_type": "code",
      "metadata": {
        "id": "EZK3Y1kbCG1k",
        "colab_type": "code",
        "colab": {}
      },
      "source": [
        "#from sklearn.model_selection import RandomizedSearchCV\n",
        "#random = RandomizedSearchCV(estimator=rfc, param_distributions=param_grid, cv = 3, n_jobs=-1)"
      ],
      "execution_count": 300,
      "outputs": []
    },
    {
      "cell_type": "code",
      "metadata": {
        "id": "2va49Rc5CQbR",
        "colab_type": "code",
        "colab": {}
      },
      "source": [
        "#random_result = random.fit(X_train, y_train)"
      ],
      "execution_count": 301,
      "outputs": []
    },
    {
      "cell_type": "code",
      "metadata": {
        "id": "rVpZ8fduDHL8",
        "colab_type": "code",
        "colab": {}
      },
      "source": [
        "#predictions = rfc.predict(X_test)"
      ],
      "execution_count": 346,
      "outputs": []
    },
    {
      "cell_type": "code",
      "metadata": {
        "id": "rxo46rSi5Fy8",
        "colab_type": "code",
        "colab": {
          "base_uri": "https://localhost:8080/",
          "height": 34
        },
        "outputId": "4186d201-ff0f-4c5b-e937-229a95f1cc04"
      },
      "source": [
        "#from sklearn.metrics import f1_score\n",
        "#print(\"F1 Score: \",f1_score(y_test,predictions.round()))"
      ],
      "execution_count": 347,
      "outputs": [
        {
          "output_type": "stream",
          "text": [
            "F1 Score:  0.8476641841570752\n"
          ],
          "name": "stdout"
        }
      ]
    },
    {
      "cell_type": "code",
      "metadata": {
        "id": "wzZG6c-R_rtZ",
        "colab_type": "code",
        "colab": {
          "base_uri": "https://localhost:8080/",
          "height": 140
        },
        "outputId": "ae70986e-8967-4d21-c400-8b65995ce38c"
      },
      "source": [
        "'''from sklearn.neighbors import KNeighborsClassifier\n",
        "from sklearn.naive_bayes import GaussianNB\n",
        "from sklearn.tree import DecisionTreeClassifier\n",
        "from sklearn.ensemble import RandomForestClassifier\n",
        "from sklearn.model_selection import train_test_split, cross_val_score\n",
        "clfs = [KNeighborsClassifier(n_neighbors = 1), \n",
        "      GaussianNB(),\n",
        "      DecisionTreeClassifier(splitter = 'random'),\n",
        "       RandomForestClassifier()]\n",
        "clfName = {1:'KNN', 2:'Naive Bayes', 3:'Decision Trees', 4:'Random Forests'}\n",
        "\n",
        "for i in range(len(clfs)):\n",
        "    scores = cross_val_score(clfs[i], X_train, y_train.ravel(), cv=5, scoring = 'f1')\n",
        "    print (\"mean validation F1 for\",clfName[i+1], \":\", \n",
        "           \"Accuracy: %0.2f (+/- %0.2f)\" % (scores.mean(), scores.std() * 2))\n",
        "    clf = clfs[i].fit(X_train, y_train.ravel())\n",
        "    y_pred = clf.predict(X_test)\n",
        "    f1 = f1_score(y_test, y_pred)\n",
        "    print ('Test F1 for',clfName[i+1], \":\", f1)'''"
      ],
      "execution_count": 509,
      "outputs": [
        {
          "output_type": "execute_result",
          "data": {
            "application/vnd.google.colaboratory.intrinsic": {
              "type": "string"
            },
            "text/plain": [
              "'from sklearn.neighbors import KNeighborsClassifier\\nfrom sklearn.naive_bayes import GaussianNB\\nfrom sklearn.tree import DecisionTreeClassifier\\nfrom sklearn.ensemble import RandomForestClassifier\\nfrom sklearn.model_selection import train_test_split, cross_val_score\\nclfs = [KNeighborsClassifier(n_neighbors = 1), \\n      GaussianNB(),\\n      DecisionTreeClassifier(splitter = \\'random\\'),\\n       RandomForestClassifier()]\\nclfName = {1:\\'KNN\\', 2:\\'Naive Bayes\\', 3:\\'Decision Trees\\', 4:\\'Random Forests\\'}\\n\\nfor i in range(len(clfs)):\\n    scores = cross_val_score(clfs[i], X_train, y_train.ravel(), cv=5, scoring = \\'f1\\')\\n    print (\"mean validation F1 for\",clfName[i+1], \":\", \\n           \"Accuracy: %0.2f (+/- %0.2f)\" % (scores.mean(), scores.std() * 2))\\n    clf = clfs[i].fit(X_train, y_train.ravel())\\n    y_pred = clf.predict(X_test)\\n    f1 = f1_score(y_test, y_pred)\\n    print (\\'Test F1 for\\',clfName[i+1], \":\", f1)'"
            ]
          },
          "metadata": {
            "tags": []
          },
          "execution_count": 509
        }
      ]
    },
    {
      "cell_type": "code",
      "metadata": {
        "id": "vKZCtQDS9V5d",
        "colab_type": "code",
        "colab": {
          "base_uri": "https://localhost:8080/",
          "height": 140
        },
        "outputId": "7de70756-3c29-474d-f34d-5e0af2edfdb3"
      },
      "source": [
        "'''from xgboost import XGBClassifier\n",
        "model = XGBClassifier()\n",
        "model.fit(X_train, y_train)'''"
      ],
      "execution_count": 305,
      "outputs": [
        {
          "output_type": "execute_result",
          "data": {
            "text/plain": [
              "XGBClassifier(base_score=0.5, booster='gbtree', colsample_bylevel=1,\n",
              "              colsample_bynode=1, colsample_bytree=1, gamma=0,\n",
              "              learning_rate=0.1, max_delta_step=0, max_depth=3,\n",
              "              min_child_weight=1, missing=None, n_estimators=100, n_jobs=1,\n",
              "              nthread=None, objective='binary:logistic', random_state=0,\n",
              "              reg_alpha=0, reg_lambda=1, scale_pos_weight=1, seed=None,\n",
              "              silent=None, subsample=1, verbosity=1)"
            ]
          },
          "metadata": {
            "tags": []
          },
          "execution_count": 305
        }
      ]
    },
    {
      "cell_type": "code",
      "metadata": {
        "id": "9pnRRgcB9beu",
        "colab_type": "code",
        "colab": {
          "base_uri": "https://localhost:8080/",
          "height": 52
        },
        "outputId": "27afbad9-c664-4df7-a1c2-c77425569e96"
      },
      "source": [
        "'''y_pred=model.predict(X_test)\n",
        "from sklearn.metrics import f1_score\n",
        "print(\"F1 Score: \",f1_score(y_test, y_pred))\n",
        "model.score(X_test, y_test)'''"
      ],
      "execution_count": 306,
      "outputs": [
        {
          "output_type": "stream",
          "text": [
            "F1 Score:  0.859049207673061\n"
          ],
          "name": "stdout"
        },
        {
          "output_type": "execute_result",
          "data": {
            "text/plain": [
              "0.8170995670995671"
            ]
          },
          "metadata": {
            "tags": []
          },
          "execution_count": 306
        }
      ]
    },
    {
      "cell_type": "code",
      "metadata": {
        "id": "bCZtUQ7CY6dr",
        "colab_type": "code",
        "colab": {}
      },
      "source": [
        "'''from sklearn.datasets import make_blobs\n",
        "from sklearn.model_selection import RepeatedStratifiedKFold\n",
        "from sklearn.model_selection import GridSearchCV\n",
        "from sklearn.ensemble import BaggingClassifier\n",
        "model = BaggingClassifier()\n",
        "n_estimators = [1000]\n",
        "# define grid search\n",
        "grid = dict(n_estimators=n_estimators)\n",
        "cv = RepeatedStratifiedKFold(n_splits=10, n_repeats=3, random_state=1)\n",
        "grid_search = GridSearchCV(estimator=model, param_grid=grid, n_jobs=-1, cv=cv, scoring='f1',error_score=0)\n",
        "grid_result = grid_search.fit(X, y)'''"
      ],
      "execution_count": null,
      "outputs": []
    },
    {
      "cell_type": "code",
      "metadata": {
        "id": "OfB4l2GReF_B",
        "colab_type": "code",
        "colab": {}
      },
      "source": [
        "#grid_search.best_params_"
      ],
      "execution_count": null,
      "outputs": []
    },
    {
      "cell_type": "code",
      "metadata": {
        "id": "xeGyOjIkeZw1",
        "colab_type": "code",
        "colab": {}
      },
      "source": [
        "'''from sklearn.model_selection import GridSearchCV\n",
        "grid_result = grid_search.fit(X_test, y_test)\n",
        "predictions=grid_result.predict(X_test)'''"
      ],
      "execution_count": null,
      "outputs": []
    },
    {
      "cell_type": "code",
      "metadata": {
        "id": "UQCnRfPZfEz6",
        "colab_type": "code",
        "colab": {}
      },
      "source": [
        "'''from sklearn.metrics import f1_score\n",
        "print(\"F1 Score: \",f1_score(y_test,predictions))'''"
      ],
      "execution_count": null,
      "outputs": []
    },
    {
      "cell_type": "markdown",
      "metadata": {
        "id": "p_PZIuhm-MS9",
        "colab_type": "text"
      },
      "source": [
        "Boosting Model"
      ]
    },
    {
      "cell_type": "code",
      "metadata": {
        "id": "DisJbYSiK80w",
        "colab_type": "code",
        "colab": {}
      },
      "source": [
        "'''from xgboost import XGBClassifier\n",
        "model = XGBClassifier()\n",
        "#model=XGBClassifier(learning_rate=0.1, n_estimators=1000, max_depth=5,\n",
        " #                       min_child_weight=3, gamma=0.2, subsample=0.6, colsample_bytree=1.0,\n",
        "  #                      objective='binary:logistic', nthread=4, scale_pos_weight=1, seed=27)\n",
        "model=XGBClassifier(silent=False, \n",
        "                      scale_pos_weight=1,\n",
        "                      learning_rate=0.01,  \n",
        "                      colsample_bytree = 0.4,\n",
        "                      subsample = 0.8,\n",
        "                      objective='binary:logistic', \n",
        "                      n_estimators=1000, \n",
        "                      reg_alpha = 0.3,\n",
        "                      max_depth=4, \n",
        "                      gamma=10)\n",
        "model.fit(X_train, y_train)'''"
      ],
      "execution_count": null,
      "outputs": []
    },
    {
      "cell_type": "markdown",
      "metadata": {
        "id": "owGllujkSRSg",
        "colab_type": "text"
      },
      "source": [
        "Test New Data Set"
      ]
    },
    {
      "cell_type": "code",
      "metadata": {
        "id": "EZbs06j7oNoW",
        "colab_type": "code",
        "colab": {
          "base_uri": "https://localhost:8080/",
          "height": 439
        },
        "outputId": "713087a1-f925-43a1-9153-280a42d79754"
      },
      "source": [
        "test_new = pd.read_csv('https://raw.githubusercontent.com/dphi-official/Datasets/master/pharma_data/Testing_set_begs.csv')\n",
        "test_new.info()"
      ],
      "execution_count": 537,
      "outputs": [
        {
          "output_type": "stream",
          "text": [
            "<class 'pandas.core.frame.DataFrame'>\n",
            "RangeIndex: 9303 entries, 0 to 9302\n",
            "Data columns (total 17 columns):\n",
            " #   Column                     Non-Null Count  Dtype  \n",
            "---  ------                     --------------  -----  \n",
            " 0   ID_Patient_Care_Situation  9303 non-null   int64  \n",
            " 1   Diagnosed_Condition        9303 non-null   int64  \n",
            " 2   Patient_ID                 9303 non-null   int64  \n",
            " 3   Treated_with_drugs         9303 non-null   object \n",
            " 4   Patient_Age                9303 non-null   int64  \n",
            " 5   Patient_Body_Mass_Index    9303 non-null   float64\n",
            " 6   Patient_Smoker             9303 non-null   object \n",
            " 7   Patient_Rural_Urban        9303 non-null   object \n",
            " 8   Patient_mental_condition   9303 non-null   object \n",
            " 9   A                          9303 non-null   float64\n",
            " 10  B                          9303 non-null   float64\n",
            " 11  C                          9303 non-null   float64\n",
            " 12  D                          9303 non-null   float64\n",
            " 13  E                          9303 non-null   float64\n",
            " 14  F                          9303 non-null   float64\n",
            " 15  Z                          9303 non-null   float64\n",
            " 16  Number_of_prev_cond        9303 non-null   float64\n",
            "dtypes: float64(9), int64(4), object(4)\n",
            "memory usage: 1.2+ MB\n"
          ],
          "name": "stdout"
        }
      ]
    },
    {
      "cell_type": "code",
      "metadata": {
        "id": "cvHPVqXioie3",
        "colab_type": "code",
        "colab": {}
      },
      "source": [
        "test_new['Treated_with_drugs']=test_new['Treated_with_drugs'].astype('category')\n",
        "#test_new = test_new.drop(['ID_Patient_Care_Situation','Patient_ID'], axis=1)"
      ],
      "execution_count": 538,
      "outputs": []
    },
    {
      "cell_type": "code",
      "metadata": {
        "id": "RlQpnZXfq_s7",
        "colab_type": "code",
        "colab": {
          "base_uri": "https://localhost:8080/",
          "height": 439
        },
        "outputId": "1bb9410a-1d66-43ed-e55d-cf9a1fa71385"
      },
      "source": [
        "from sklearn.preprocessing import LabelEncoder\n",
        "le = LabelEncoder()\n",
        "#pharma_data_mod.Treated_with_drugs = le.fit_transform(pharma_data_mod.Treated_with_drugs)\n",
        "test_new = test_new.apply(lambda col: le.fit_transform(col.astype(str)), axis=0, result_type='expand')\n",
        "\n",
        "test_new.head()\n",
        "test_new.info()"
      ],
      "execution_count": 539,
      "outputs": [
        {
          "output_type": "stream",
          "text": [
            "<class 'pandas.core.frame.DataFrame'>\n",
            "RangeIndex: 9303 entries, 0 to 9302\n",
            "Data columns (total 17 columns):\n",
            " #   Column                     Non-Null Count  Dtype\n",
            "---  ------                     --------------  -----\n",
            " 0   ID_Patient_Care_Situation  9303 non-null   int64\n",
            " 1   Diagnosed_Condition        9303 non-null   int64\n",
            " 2   Patient_ID                 9303 non-null   int64\n",
            " 3   Treated_with_drugs         9303 non-null   int64\n",
            " 4   Patient_Age                9303 non-null   int64\n",
            " 5   Patient_Body_Mass_Index    9303 non-null   int64\n",
            " 6   Patient_Smoker             9303 non-null   int64\n",
            " 7   Patient_Rural_Urban        9303 non-null   int64\n",
            " 8   Patient_mental_condition   9303 non-null   int64\n",
            " 9   A                          9303 non-null   int64\n",
            " 10  B                          9303 non-null   int64\n",
            " 11  C                          9303 non-null   int64\n",
            " 12  D                          9303 non-null   int64\n",
            " 13  E                          9303 non-null   int64\n",
            " 14  F                          9303 non-null   int64\n",
            " 15  Z                          9303 non-null   int64\n",
            " 16  Number_of_prev_cond        9303 non-null   int64\n",
            "dtypes: int64(17)\n",
            "memory usage: 1.2 MB\n"
          ],
          "name": "stdout"
        }
      ]
    },
    {
      "cell_type": "code",
      "metadata": {
        "id": "KPf5o6oDpNSc",
        "colab_type": "code",
        "colab": {}
      },
      "source": [
        "from sklearn.ensemble import RandomForestClassifier\n",
        "Survived_1_year = model.predict(test_new)"
      ],
      "execution_count": 540,
      "outputs": []
    },
    {
      "cell_type": "code",
      "metadata": {
        "id": "BvYCM5Vy3WmI",
        "colab_type": "code",
        "colab": {}
      },
      "source": [
        "#from xgboost import XGBClassifier\n",
        "#Survived_1_year = model.predict(test_new)"
      ],
      "execution_count": null,
      "outputs": []
    },
    {
      "cell_type": "code",
      "metadata": {
        "id": "FMvmnBuxQw8X",
        "colab_type": "code",
        "colab": {}
      },
      "source": [
        "#from sklearn.model_selection import RepeatedStratifiedKFold\n",
        "#Survived_1_year = grid_result.predict(test_new)"
      ],
      "execution_count": 506,
      "outputs": []
    },
    {
      "cell_type": "code",
      "metadata": {
        "id": "aMGe3LLFn1L1",
        "colab_type": "code",
        "colab": {}
      },
      "source": [
        "res=pd.DataFrame(Survived_1_year)\n",
        "res.index=test_new.index\n",
        "res.columns=[\"Survived_1_year\"]"
      ],
      "execution_count": 541,
      "outputs": []
    },
    {
      "cell_type": "code",
      "metadata": {
        "id": "7q_TIYSxn7r8",
        "colab_type": "code",
        "colab": {
          "base_uri": "https://localhost:8080/",
          "height": 17
        },
        "outputId": "de7226d5-a606-430d-fd97-a8d0d229bce6"
      },
      "source": [
        "from google.colab import files\n",
        "res.to_csv('prediciton_results_Liv.csv')\n",
        "files.download('prediciton_results_Liv.csv')"
      ],
      "execution_count": 542,
      "outputs": [
        {
          "output_type": "display_data",
          "data": {
            "application/javascript": [
              "\n",
              "    async function download(id, filename, size) {\n",
              "      if (!google.colab.kernel.accessAllowed) {\n",
              "        return;\n",
              "      }\n",
              "      const div = document.createElement('div');\n",
              "      const label = document.createElement('label');\n",
              "      label.textContent = `Downloading \"${filename}\": `;\n",
              "      div.appendChild(label);\n",
              "      const progress = document.createElement('progress');\n",
              "      progress.max = size;\n",
              "      div.appendChild(progress);\n",
              "      document.body.appendChild(div);\n",
              "\n",
              "      const buffers = [];\n",
              "      let downloaded = 0;\n",
              "\n",
              "      const channel = await google.colab.kernel.comms.open(id);\n",
              "      // Send a message to notify the kernel that we're ready.\n",
              "      channel.send({})\n",
              "\n",
              "      for await (const message of channel.messages) {\n",
              "        // Send a message to notify the kernel that we're ready.\n",
              "        channel.send({})\n",
              "        if (message.buffers) {\n",
              "          for (const buffer of message.buffers) {\n",
              "            buffers.push(buffer);\n",
              "            downloaded += buffer.byteLength;\n",
              "            progress.value = downloaded;\n",
              "          }\n",
              "        }\n",
              "      }\n",
              "      const blob = new Blob(buffers, {type: 'application/binary'});\n",
              "      const a = document.createElement('a');\n",
              "      a.href = window.URL.createObjectURL(blob);\n",
              "      a.download = filename;\n",
              "      div.appendChild(a);\n",
              "      a.click();\n",
              "      div.remove();\n",
              "    }\n",
              "  "
            ],
            "text/plain": [
              "<IPython.core.display.Javascript object>"
            ]
          },
          "metadata": {
            "tags": []
          }
        },
        {
          "output_type": "display_data",
          "data": {
            "application/javascript": [
              "download(\"download_9f582121-950b-46dc-8593-4b29a4c18d5f\", \"prediciton_results_Liv.csv\", 64028)"
            ],
            "text/plain": [
              "<IPython.core.display.Javascript object>"
            ]
          },
          "metadata": {
            "tags": []
          }
        }
      ]
    }
  ]
}